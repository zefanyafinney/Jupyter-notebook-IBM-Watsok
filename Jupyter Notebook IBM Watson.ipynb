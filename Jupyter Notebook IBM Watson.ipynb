{
 "cells": [
  {
   "cell_type": "markdown",
   "id": "455f97f8",
   "metadata": {},
   "source": [
    "# My Jupyter Notebook on IBM Watson Studion"
   ]
  },
  {
   "cell_type": "markdown",
   "id": "affb2c1d",
   "metadata": {},
   "source": [
    "#### Zefanya Finney Simijaya"
   ]
  },
  {
   "cell_type": "markdown",
   "id": "bd8db7a2",
   "metadata": {},
   "source": [
    "I am interested in data science because I love to gain insight from data"
   ]
  },
  {
   "cell_type": "markdown",
   "id": "a34c0dd9",
   "metadata": {},
   "source": [
    "###  The following code tests the gauss formula"
   ]
  },
  {
   "cell_type": "code",
   "execution_count": 1,
   "id": "5ffed064",
   "metadata": {},
   "outputs": [
    {
     "data": {
      "text/plain": [
       "True"
      ]
     },
     "execution_count": 1,
     "metadata": {},
     "output_type": "execute_result"
    }
   ],
   "source": [
    "def gauss(n):\n",
    "    return (n*(n+1))/2\n",
    "\n",
    "gauss(100) == sum(range(101))"
   ]
  },
  {
   "cell_type": "code",
   "execution_count": null,
   "id": "665158ad",
   "metadata": {},
   "outputs": [],
   "source": []
  }
 ],
 "metadata": {
  "kernelspec": {
   "display_name": "Python 3 (ipykernel)",
   "language": "python",
   "name": "python3"
  },
  "language_info": {
   "codemirror_mode": {
    "name": "ipython",
    "version": 3
   },
   "file_extension": ".py",
   "mimetype": "text/x-python",
   "name": "python",
   "nbconvert_exporter": "python",
   "pygments_lexer": "ipython3",
   "version": "3.9.7"
  }
 },
 "nbformat": 4,
 "nbformat_minor": 5
}
